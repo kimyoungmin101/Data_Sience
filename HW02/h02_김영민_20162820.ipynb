{
 "cells": [
  {
   "cell_type": "code",
   "execution_count": 75,
   "metadata": {},
   "outputs": [],
   "source": [
    "import torch\n",
    "x_train = torch.FloatTensor([[1],[2],[3],[4],[5],[2.5],[3.5],[0],[3.1],[2.7],[2.8],[2.9]])\n",
    "y_train = torch.FloatTensor([[1],[1],[1],[0],[0],[0],[0],[1],[0],[1],[1],[1]])"
   ]
  },
  {
   "cell_type": "code",
   "execution_count": 76,
   "metadata": {},
   "outputs": [],
   "source": [
    "W = torch.zeros(1,1)\n",
    "b = torch.zeros(1,1)\n",
    "lr = 1.0"
   ]
  },
  {
   "cell_type": "code",
   "execution_count": 79,
   "metadata": {},
   "outputs": [
    {
     "name": "stdout",
     "output_type": "stream",
     "text": [
      "epoch: 0, cost: 0.381491, W: -3.103761 b: tensor([[9.3975]])\n",
      "epoch: 300, cost: 0.381491, W: -3.103761 b: tensor([[9.3975]])\n",
      "epoch: 600, cost: 0.381491, W: -3.103761 b: tensor([[9.3975]])\n",
      "epoch: 900, cost: 0.381491, W: -3.103761 b: tensor([[9.3975]])\n",
      "epoch: 1200, cost: 0.381491, W: -3.103761 b: tensor([[9.3975]])\n",
      "epoch: 1500, cost: 0.381491, W: -3.103761 b: tensor([[9.3975]])\n",
      "epoch: 1800, cost: 0.381491, W: -3.103761 b: tensor([[9.3975]])\n",
      "epoch: 2100, cost: 0.381491, W: -3.103761 b: tensor([[9.3975]])\n",
      "epoch: 2400, cost: 0.381491, W: -3.103761 b: tensor([[9.3975]])\n",
      "epoch: 2700, cost: 0.381491, W: -3.103761 b: tensor([[9.3975]])\n",
      "epoch: 3000, cost: 0.381491, W: -3.103761 b: tensor([[9.3975]])\n"
     ]
    }
   ],
   "source": [
    "for epoch in range(3001):\n",
    "    W.requires_grad_(True)\n",
    "    b.requires_grad_(True)\n",
    "    hypothesis = torch.sigmoid(torch.mm(x_train, W) + b)\n",
    "    cost = torch.mean(-y_train * torch.log(hypothesis)-(1-y_train) * torch.log(1-hypothesis))\n",
    "    cost.backward()\n",
    "    with torch.no_grad() as grd:\n",
    "        W = W - lr * W.grad\n",
    "        b = b - lr * b.grad\n",
    "        if(epoch % 300 == 0):\n",
    "            print( 'epoch: {}, cost: {:.6f}, W: {:.6f}' .format(epoch, cost.item(), W.squeeze()),  'b:',format(b))"
   ]
  },
  {
   "cell_type": "code",
   "execution_count": 80,
   "metadata": {},
   "outputs": [
    {
     "name": "stdout",
     "output_type": "stream",
     "text": [
      "tensor([[0.],\n",
      "        [1.]])\n"
     ]
    }
   ],
   "source": [
    "x_test = torch.FloatTensor([[4.5],[1.1]])\n",
    "test_result = torch.sigmoid(torch.mm(x_test, W) + b)\n",
    "print(torch.round(test_result))"
   ]
  },
  {
   "cell_type": "code",
   "execution_count": 81,
   "metadata": {},
   "outputs": [],
   "source": [
    "optimizer = torch.optim.SGD([W,b], lr=1.0)"
   ]
  },
  {
   "cell_type": "code",
   "execution_count": 82,
   "metadata": {},
   "outputs": [
    {
     "data": {
      "image/png": "[encoded data removed]",
      "text/plain": [
       "<Figure size 432x288 with 1 Axes>"
      ]
     },
     "metadata": {
      "needs_background": "light"
     },
     "output_type": "display_data"
    }
   ],
   "source": [
    "import matplotlib.pyplot as plt\n",
    "\n",
    "W.requires_grad_(False)\n",
    "b.requires_grad_(False)\n",
    "plt.scatter(x_train, y_train)\n",
    "\n",
    "X = torch.linspace(0,5,100).unsqueeze(1)\n",
    "Y = torch.sigmoid(torch.mm(X,W)+b)\n",
    "\n",
    "plt.plot(X,Y, c=\"#ff0000\", label=\"Fitting line\")\n",
    "plt.legend()\n",
    "plt.ylabel(\"Probability of 1 (Y)\")\n",
    "plt.xlabel(\"Input (X)\")\n",
    "plt.scatter(x_train, y_train, c=\"black\", label=\"Training data\")\n",
    "\n",
    "plt.show()"
   ]
  },
  {
   "cell_type": "code",
   "execution_count": null,
   "metadata": {},
   "outputs": [],
   "source": []
  }
 ],
 "metadata": {
  "kernelspec": {
   "display_name": "Python 3",
   "language": "python",
   "name": "python3"
  },
  "language_info": {
   "codemirror_mode": {
    "name": "ipython",
    "version": 3
   },
   "file_extension": ".py",
   "mimetype": "text/x-python",
   "name": "python",
   "nbconvert_exporter": "python",
   "pygments_lexer": "ipython3",
   "version": "3.7.6"
  }
 },
 "nbformat": 4,
 "nbformat_minor": 4
}
