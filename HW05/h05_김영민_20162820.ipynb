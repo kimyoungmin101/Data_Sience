{
  "nbformat": 4,
  "nbformat_minor": 0,
  "metadata": {
    "colab": {
      "name": "h05_김영민_20162820.ipynb",
      "provenance": []
    },
    "kernelspec": {
      "name": "python3",
      "display_name": "Python 3"
    }
  },
  "cells": [
    {
      "cell_type": "code",
      "metadata": {
        "id": "67LkRVG7ron6",
        "outputId": "91f1b799-e7cc-4f62-90b7-477ace13b59f",
        "colab": {
          "base_uri": "https://localhost:8080/"
        }
      },
      "source": [
        "!ls data"
      ],
      "execution_count": 5,
      "outputs": [
        {
          "output_type": "stream",
          "text": [
            "ua.base  ua.test\n"
          ],
          "name": "stdout"
        }
      ]
    },
    {
      "cell_type": "code",
      "metadata": {
        "id": "Q1kTPKh9sGRQ"
      },
      "source": [
        "import torch\n",
        "import pandas as pd\n",
        "import torch.nn.functional as F\n",
        "import matplotlib.pyplot as plt"
      ],
      "execution_count": 6,
      "outputs": []
    },
    {
      "cell_type": "code",
      "metadata": {
        "id": "kIowR0-usPTA",
        "outputId": "24d24bf9-b657-4223-fba6-83b82b08aa3f",
        "colab": {
          "base_uri": "https://localhost:8080/",
          "height": 484
        }
      },
      "source": [
        "train = pd.read_csv(\"data/ua.base\",sep=\"\\t\", names=['user', 'movie', 'rating', 'timestamp'])\n",
        "test = pd.read_csv(\"data/ua.test\", sep=\"\\t\", names=['user', 'movie', 'rating', 'timestamp'])\n",
        "\n",
        "items = torch.LongTensor(train['movie'])\n",
        "users = torch.LongTensor(train['user'])\n",
        "ratings = torch.FloatTensor(train['rating'])\n",
        "items_test = torch.LongTensor(test['movie'])\n",
        "users_test = torch.LongTensor(test['user'])\n",
        "ratings_test = torch.FloatTensor(test['rating'])\n",
        "\n",
        "rank = 10\n",
        "numItems = items.max() + 1\n",
        "numUsers = users.max() + 1\n",
        "P = torch.randn(numItems, rank, requires_grad=True)\n",
        "Q = torch.randn(numUsers, rank, requires_grad=True)\n",
        "\n",
        "optimizer = torch.optim.Adam([P, Q], lr= 0.1)\n",
        "X = []\n",
        "Y = []\n",
        "Y_test = []\n",
        "lambda1 = 0.0001\n",
        "lambda2 = 0.0001\n",
        "lambda3 = 0.001\n",
        "lambda4 = 0.001\n",
        "bias_item = torch.randn(numItems, requires_grad=True)\n",
        "bias_user = torch.randn(numUsers, requires_grad=True)\n",
        "mean = (ratings.sum() / len(ratings)).item()\n",
        "\n",
        "for epoch in range(1001):\n",
        "  hypothesis = torch.sum(P[items] * Q[users], dim=1) + mean + bias_item[items] + bias_user[users]\n",
        "  cost = F.mse_loss(hypothesis ,ratings)\n",
        "  loss = cost + lambda1 * torch.sum(P ** 2) + lambda2 * torch.sum(Q ** 2) + lambda3 * torch.sum(bias_item ** 2) + lambda4 * torch.sum(bias_user ** 2)\n",
        "\n",
        "  optimizer.zero_grad()\n",
        "  loss.backward()\n",
        "  optimizer.step()\n",
        "  X.append(epoch)\n",
        "  Y.append(cost)\n",
        "\n",
        "  with torch.no_grad():\n",
        "    hypo_test = torch.sum(P[items_test] * Q[users_test], dim=1) + mean + bias_item[items_test] + bias_user[users_test]\n",
        "    cost_test = F.mse_loss(hypo_test, ratings_test)\n",
        "    Y_test.append(cost_test)\n",
        "\n",
        "  if epoch % 100 == 0:\n",
        "    print(\"epoch: {}, cost: {:.6f}\".format(epoch, cost.item()))\n",
        "\n",
        "plt.ylabel(\"MSE\")\n",
        "plt.xlabel(\"Epoch\")\n",
        "plt.plot(X,Y, c=\"blue\", label=\"Training MSE\")\n",
        "plt.plot(X,Y_test, c=\"red\", label=\"Test MSE\")\n",
        "plt.legend()\n",
        "plt.show()"
      ],
      "execution_count": 7,
      "outputs": [
        {
          "output_type": "stream",
          "text": [
            "epoch: 0, cost: 13.476159\n",
            "epoch: 100, cost: 0.673564\n",
            "epoch: 200, cost: 0.645172\n",
            "epoch: 300, cost: 0.640795\n",
            "epoch: 400, cost: 0.639757\n",
            "epoch: 500, cost: 0.639172\n",
            "epoch: 600, cost: 0.638877\n",
            "epoch: 700, cost: 0.638796\n",
            "epoch: 800, cost: 0.638793\n",
            "epoch: 900, cost: 0.638813\n",
            "epoch: 1000, cost: 0.638824\n"
          ],
          "name": "stdout"
        },
        {
          "output_type": "display_data",
          "data": {
            "image/png": "[encoded data removed]",
            "text/plain": [
              "<Figure size 432x288 with 1 Axes>"
            ]
          },
          "metadata": {
            "tags": [],
            "needs_background": "light"
          }
        }
      ]
    }
  ]
}