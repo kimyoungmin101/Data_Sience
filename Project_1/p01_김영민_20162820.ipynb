{
  "nbformat": 4,
  "nbformat_minor": 0,
  "metadata": {
    "colab": {
      "name": "Untitled7.ipynb",
      "provenance": [],
      "collapsed_sections": []
    },
    "kernelspec": {
      "name": "python3",
      "display_name": "Python 3"
    }
  },
  "cells": [
    {
      "cell_type": "code",
      "metadata": {
        "id": "f5CqB_RyjQ3_",
        "outputId": "a876fc06-54c7-48c3-f19d-d4beadd554ee",
        "colab": {
          "base_uri": "https://localhost:8080/",
          "height": 424
        }
      },
      "source": [
        "import pandas as pd\n",
        "import numpy as np\n",
        "import matplotlib.pyplot as plt\n",
        "\n",
        "print(\"Task 1. (20 점) csv 파일을 다운로드 받고 pandas를 이용하여 불러오기\")\n",
        "data = pd.read_csv('/content/p01_input.csv', index_col = 0, encoding='CP949')\n",
        "\n",
        "\n",
        "data_sample = data.loc[:,['키', '몸무게']]\n",
        "\n",
        "data_sample = data_sample.dropna(axis=0).reset_index(drop=True)\n",
        "\n",
        "data_sample\n"
      ],
      "execution_count": 292,
      "outputs": [
        {
          "output_type": "stream",
          "text": [
            "Task 1. (20 점) csv 파일을 다운로드 받고 pandas를 이용하여 불러오기\n"
          ],
          "name": "stdout"
        },
        {
          "output_type": "execute_result",
          "data": {
            "text/html": [
              "<div>\n",
              "<style scoped>\n",
              "    .dataframe tbody tr th:only-of-type {\n",
              "        vertical-align: middle;\n",
              "    }\n",
              "\n",
              "    .dataframe tbody tr th {\n",
              "        vertical-align: top;\n",
              "    }\n",
              "\n",
              "    .dataframe thead th {\n",
              "        text-align: right;\n",
              "    }\n",
              "</style>\n",
              "<table border=\"1\" class=\"dataframe\">\n",
              "  <thead>\n",
              "    <tr style=\"text-align: right;\">\n",
              "      <th></th>\n",
              "      <th>키</th>\n",
              "      <th>몸무게</th>\n",
              "    </tr>\n",
              "  </thead>\n",
              "  <tbody>\n",
              "    <tr>\n",
              "      <th>0</th>\n",
              "      <td>125.8</td>\n",
              "      <td>27.3</td>\n",
              "    </tr>\n",
              "    <tr>\n",
              "      <th>1</th>\n",
              "      <td>124.3</td>\n",
              "      <td>25.4</td>\n",
              "    </tr>\n",
              "    <tr>\n",
              "      <th>2</th>\n",
              "      <td>119.2</td>\n",
              "      <td>23.5</td>\n",
              "    </tr>\n",
              "    <tr>\n",
              "      <th>3</th>\n",
              "      <td>115.0</td>\n",
              "      <td>20.0</td>\n",
              "    </tr>\n",
              "    <tr>\n",
              "      <th>4</th>\n",
              "      <td>120.0</td>\n",
              "      <td>33.5</td>\n",
              "    </tr>\n",
              "    <tr>\n",
              "      <th>...</th>\n",
              "      <td>...</td>\n",
              "      <td>...</td>\n",
              "    </tr>\n",
              "    <tr>\n",
              "      <th>9677</th>\n",
              "      <td>176.1</td>\n",
              "      <td>50.4</td>\n",
              "    </tr>\n",
              "    <tr>\n",
              "      <th>9678</th>\n",
              "      <td>174.1</td>\n",
              "      <td>88.8</td>\n",
              "    </tr>\n",
              "    <tr>\n",
              "      <th>9679</th>\n",
              "      <td>169.5</td>\n",
              "      <td>63.2</td>\n",
              "    </tr>\n",
              "    <tr>\n",
              "      <th>9680</th>\n",
              "      <td>159.2</td>\n",
              "      <td>52.9</td>\n",
              "    </tr>\n",
              "    <tr>\n",
              "      <th>9681</th>\n",
              "      <td>162.0</td>\n",
              "      <td>67.7</td>\n",
              "    </tr>\n",
              "  </tbody>\n",
              "</table>\n",
              "<p>9682 rows × 2 columns</p>\n",
              "</div>"
            ],
            "text/plain": [
              "          키   몸무게\n",
              "0     125.8  27.3\n",
              "1     124.3  25.4\n",
              "2     119.2  23.5\n",
              "3     115.0  20.0\n",
              "4     120.0  33.5\n",
              "...     ...   ...\n",
              "9677  176.1  50.4\n",
              "9678  174.1  88.8\n",
              "9679  169.5  63.2\n",
              "9680  159.2  52.9\n",
              "9681  162.0  67.7\n",
              "\n",
              "[9682 rows x 2 columns]"
            ]
          },
          "metadata": {
            "tags": []
          },
          "execution_count": 292
        }
      ]
    },
    {
      "cell_type": "code",
      "metadata": {
        "id": "sDJu7bIHbWI5",
        "outputId": "2bbaff4c-f8a6-4c45-9d95-0961b7d580f9",
        "colab": {
          "base_uri": "https://localhost:8080/"
        }
      },
      "source": [
        "print(\"Task 2. (10 점) 학생들의 평균 키와 평균 몸무게 구하기\")\n",
        "mean_weight = data_sample['몸무게'].mean()\n",
        "mean_height = data_sample['키'].mean()\n",
        "\n",
        "print(\"평균 몸무게 : \", mean_weight)\n",
        "print(\"평균 키     : \", mean_height)"
      ],
      "execution_count": 293,
      "outputs": [
        {
          "output_type": "stream",
          "text": [
            "Task 2. (10 점) 학생들의 평균 키와 평균 몸무게 구하기\n",
            "평균 몸무게 :  50.20759140673406\n",
            "평균 키     :  154.56483164635458\n"
          ],
          "name": "stdout"
        }
      ]
    },
    {
      "cell_type": "code",
      "metadata": {
        "id": "S0o507f7cO8F",
        "outputId": "64f1e48c-614d-4394-8c5d-a16379538a84",
        "colab": {
          "base_uri": "https://localhost:8080/"
        }
      },
      "source": [
        "from pandas import DataFrame\n",
        "import sys\n",
        "\n",
        "print(\"Task 3. (10 점) 키와 몸무게 사이의 상관관계 (Pearson Correlation Coefficient) 구하기\")\n",
        "\n",
        "X = data_sample.키\n",
        "Y = data_sample.몸무게\n",
        "\n",
        "mean_x = sum(X)/len(X)\n",
        "mean_y = sum(Y)/len(Y)\n",
        "\n",
        "std_x = (sum((x - mean_x) ** 2 for x in X)/len(X)) ** 0.5\n",
        "std_y = (sum((y - mean_y) ** 2 for y in Y)/len(Y)) ** 0.5\n",
        "\n",
        "\n",
        "cov = sum((x - mean_x) * (y - mean_y) for x, y in zip(X,Y))/len(X)\n",
        "corr = cov/std_x/std_y\n",
        "\n",
        "print(\"상관관계 : \", corr)"
      ],
      "execution_count": 294,
      "outputs": [
        {
          "output_type": "stream",
          "text": [
            "Task 3. (10 점) 키와 몸무게 사이의 상관관계 (Pearson Correlation Coefficient) 구하기\n",
            "상관관계 :  0.8490058387689013\n"
          ],
          "name": "stdout"
        }
      ]
    },
    {
      "cell_type": "code",
      "metadata": {
        "id": "pxzX4JLq9nm8",
        "outputId": "7581b19c-448f-4bbf-c108-472ac038ac46",
        "colab": {
          "base_uri": "https://localhost:8080/"
        }
      },
      "source": [
        "print(\"Task 4.   (40 점) Linear Regression을 사용하여 키와 몸무게 사이의 선형관계를 찾기 (= 직선의 방정식 구하기: y= wx + b 에서 w와 b값 구하기)\")\n",
        "print(\"Task 4-1. (10 점) 가설, 비용 설정하기\")\n",
        "print(\"Task 4-2. (20 점) 경사하강법으로 비용을 최소로 만들도록 학습하기 (torch.optim 사용하지 말고 직접 구현해보기)\")\n",
        "\n",
        "import torch\n",
        "\n",
        "X = data_sample.loc[:,['키']]\n",
        "Y = data_sample.loc[:,['몸무게']]\n",
        "\n",
        "X = np.array(X).reshape(len(X), 1)\n",
        "Y = np.array(Y).reshape(len(Y), 1)\n",
        "\n",
        "x_train = torch.FloatTensor(X)\n",
        "y_train = torch.FloatTensor(Y)\n",
        "\n",
        "W = torch.zeros(1,1)\n",
        "b = torch.zeros(1,1)\n",
        "\n",
        "lr1 = 0.000037\n",
        "lr2 = 0.1\n",
        "\n",
        "for epoch in range(3001):\n",
        "  W.requires_grad_(True)\n",
        "  b.requires_grad_(True)\n",
        "  hypothesis = torch.mm(x_train, W) + b\n",
        "  cost = torch.mean((hypothesis - y_train) ** 2)\n",
        "  \n",
        "  cost.backward()\n",
        "  \n",
        "  with torch.no_grad():\n",
        "    W = W - lr1 * W.grad\n",
        "    b = b - lr2 * b.grad\n",
        "\n",
        "  if epoch % 100 == 0:\n",
        "    print( 'epoch: {}, cost: {:.6f}, W: {}, b: {}' .format(epoch,cost.item(), W.squeeze(), b))    "
      ],
      "execution_count": 295,
      "outputs": [
        {
          "output_type": "stream",
          "text": [
            "Task 4.   (40 점) Linear Regression을 사용하여 키와 몸무게 사이의 선형관계를 찾기 (= 직선의 방정식 구하기: y= wx + b 에서 w와 b값 구하기)\n",
            "Task 4-1. (10 점) 가설, 비용 설정하기\n",
            "Task 4-2. (20 점) 경사하강법으로 비용을 최소로 만들도록 학습하기 (torch.optim 사용하지 말고 직접 구현해보기)\n",
            "epoch: 0, cost: 2812.360352, W: 0.592469334602356, b: tensor([[10.0415]])\n",
            "epoch: 100, cost: 334.758942, W: 0.48585575819015503, b: tensor([[-10.4313]])\n",
            "epoch: 200, cost: 133.929337, W: 0.5143603682518005, b: tensor([[-24.9668]])\n",
            "epoch: 300, cost: 107.303085, W: 0.5684497952461243, b: tensor([[-36.1554]])\n",
            "epoch: 400, cost: 97.648003, W: 0.6205297708511353, b: tensor([[-45.0358]])\n",
            "epoch: 500, cost: 91.929871, W: 0.6648380160331726, b: tensor([[-52.1604]])\n",
            "epoch: 600, cost: 88.249962, W: 0.7012065649032593, b: tensor([[-57.8974]])\n",
            "epoch: 700, cost: 85.857956, W: 0.7307154536247253, b: tensor([[-62.5228]])\n",
            "epoch: 800, cost: 84.301376, W: 0.7545678019523621, b: tensor([[-66.2536]])\n",
            "epoch: 900, cost: 83.288300, W: 0.773823082447052, b: tensor([[-69.2631]])\n",
            "epoch: 1000, cost: 82.628922, W: 0.7893610000610352, b: tensor([[-71.6910]])\n",
            "epoch: 1100, cost: 82.199776, W: 0.8018969893455505, b: tensor([[-73.6498]])\n",
            "epoch: 1200, cost: 81.920471, W: 0.8120109438896179, b: tensor([[-75.2300]])\n",
            "epoch: 1300, cost: 81.738693, W: 0.8201700448989868, b: tensor([[-76.5048]])\n",
            "epoch: 1400, cost: 81.620377, W: 0.8267525434494019, b: tensor([[-77.5332]])\n",
            "epoch: 1500, cost: 81.543365, W: 0.832062840461731, b: tensor([[-78.3629]])\n",
            "epoch: 1600, cost: 81.493256, W: 0.8363469839096069, b: tensor([[-79.0323]])\n",
            "epoch: 1700, cost: 81.460632, W: 0.839803159236908, b: tensor([[-79.5723]])\n",
            "epoch: 1800, cost: 81.439407, W: 0.8425916433334351, b: tensor([[-80.0079]])\n",
            "epoch: 1900, cost: 81.425583, W: 0.8448415398597717, b: tensor([[-80.3594]])\n",
            "epoch: 2000, cost: 81.416588, W: 0.8466561436653137, b: tensor([[-80.6430]])\n",
            "epoch: 2100, cost: 81.410728, W: 0.8481206297874451, b: tensor([[-80.8717]])\n",
            "epoch: 2200, cost: 81.406937, W: 0.8493021726608276, b: tensor([[-81.0564]])\n",
            "epoch: 2300, cost: 81.404449, W: 0.8502547144889832, b: tensor([[-81.2052]])\n",
            "epoch: 2400, cost: 81.402832, W: 0.8510233163833618, b: tensor([[-81.3253]])\n",
            "epoch: 2500, cost: 81.401779, W: 0.8516435027122498, b: tensor([[-81.4222]])\n",
            "epoch: 2600, cost: 81.401100, W: 0.8521438241004944, b: tensor([[-81.5004]])\n",
            "epoch: 2700, cost: 81.400650, W: 0.8525475263595581, b: tensor([[-81.5634]])\n",
            "epoch: 2800, cost: 81.400360, W: 0.8528733253479004, b: tensor([[-81.6143]])\n",
            "epoch: 2900, cost: 81.400177, W: 0.8531361818313599, b: tensor([[-81.6554]])\n",
            "epoch: 3000, cost: 81.400055, W: 0.8533478379249573, b: tensor([[-81.6885]])\n"
          ],
          "name": "stdout"
        }
      ]
    },
    {
      "cell_type": "code",
      "metadata": {
        "id": "pN-XpgH2tNML",
        "outputId": "1dfea251-46bf-4cac-f753-0283b6cdc51e",
        "colab": {
          "base_uri": "https://localhost:8080/",
          "height": 347
        }
      },
      "source": [
        "print(\"Task 5. (20 점) Matplotlib을 사용하여 좌표평면상에 입력값(키, 몸무게)과 구한 직선을 그려보기\")\n",
        "print(\"Task 5-1. (10 점) 입력값(키, 몸무게)를 산포도로 그리기 (x축=키, y축=몸무게)\")\n",
        "print(\"Task 5-2. (10 점) w와 b값을 이용하여 직선 그리기 (산포도와 일치하는지 확인하여 학습이 잘 되었는지 확인하기 위함)\")\n",
        "\n",
        "plt.scatter(X, Y, s=0.3)\n",
        "plt.plot(X, W*X + b, c ='red')  # draw line\n",
        "plt.xlabel(\"height\")\n",
        "plt.ylabel(\"weight\")\n",
        "plt.title(\"height_weight\")\n",
        "plt.show()\n",
        "\n"
      ],
      "execution_count": 296,
      "outputs": [
        {
          "output_type": "stream",
          "text": [
            "Task 5. (20 점) Matplotlib을 사용하여 좌표평면상에 입력값(키, 몸무게)과 구한 직선을 그려보기\n",
            "Task 5-1. (10 점) 입력값(키, 몸무게)를 산포도로 그리기 (x축=키, y축=몸무게)\n",
            "Task 5-2. (10 점) w와 b값을 이용하여 직선 그리기 (산포도와 일치하는지 확인하여 학습이 잘 되었는지 확인하기 위함)\n"
          ],
          "name": "stdout"
        },
        {
          "output_type": "display_data",
          "data": {
            "image/png": "[encoded data removed]",
            "text/plain": [
              "<Figure size 432x288 with 1 Axes>"
            ]
          },
          "metadata": {
            "tags": [],
            "needs_background": "light"
          }
        }
      ]
    }
  ]
}