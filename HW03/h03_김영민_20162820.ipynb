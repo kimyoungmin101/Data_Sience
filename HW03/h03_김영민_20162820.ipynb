{
 "cells": [
  {
   "cell_type": "code",
   "execution_count": 9,
   "metadata": {},
   "outputs": [],
   "source": [
    "import torch\n",
    "\n",
    "x_train = torch.FloatTensor([ [1,2,1,1], [2,1,3,2], [3,1,3,4], [4,1,5,5], [1,7,5,5], [1,2,5,6], [1,6,6,6], [1,7,7,7] ])\n",
    "y_train = torch.FloatTensor([ [0,0,1], [0,0,1], [0,0,1], [0,1,0], [0,1,0], [0,1,0], [1,0,0], [1,0,0] ])"
   ]
  },
  {
   "cell_type": "code",
   "execution_count": 10,
   "metadata": {},
   "outputs": [],
   "source": [
    "W = torch.zeros(4, 3, requires_grad=True)\n",
    "b = torch.zeros(1, 3, requires_grad=True)\n",
    "optimizer = torch.optim.Adam([W,b], lr=0.1)"
   ]
  },
  {
   "cell_type": "code",
   "execution_count": 11,
   "metadata": {},
   "outputs": [
    {
     "name": "stdout",
     "output_type": "stream",
     "text": [
      "epoch: 0, cost: 1.098612\n",
      "epoch: 300, cost: 0.105263\n",
      "epoch: 600, cost: 0.042634\n",
      "epoch: 900, cost: 0.023111\n",
      "epoch: 1200, cost: 0.014479\n",
      "epoch: 1500, cost: 0.009879\n",
      "epoch: 1800, cost: 0.007124\n",
      "epoch: 2100, cost: 0.005338\n",
      "epoch: 2400, cost: 0.004113\n",
      "epoch: 2700, cost: 0.003236\n",
      "epoch: 3000, cost: 0.002588\n",
      "tensor([[1.0000e+00, 5.5164e-19, 7.0150e-38],\n",
      "        [1.4799e-02, 7.4294e-01, 2.4226e-01],\n",
      "        [1.2256e-33, 9.0835e-12, 1.0000e+00]])\n",
      "tensor([0, 1, 2])\n"
     ]
    }
   ],
   "source": [
    "for epoch in range(3001):\n",
    "    hypothesis = (torch.mm(x_train, W)+b).softmax(dim=1)\n",
    "    cost = -(y_train * torch.log(hypothesis)).sum(dim=1).mean()\n",
    "    optimizer.zero_grad()\n",
    "    cost.backward()\n",
    "    optimizer.step()\n",
    "    if epoch % 300 == 0:\n",
    "        print(\"epoch: {}, cost: {:.6f}\".format(epoch, cost.item()))\n",
    "\n",
    "W.requires_grad_(False)\n",
    "b.requires_grad_(False)\n",
    "x_test = torch.FloatTensor([[1,11,10,9], [1,3,4,3], [1,1,0,1]])\n",
    "test_all = torch.softmax(torch.mm(x_test, W)+b, dim=1)\n",
    "print(test_all)\n",
    "print(torch.argmax(test_all, dim=1))"
   ]
  },
  {
   "cell_type": "code",
   "execution_count": 24,
   "metadata": {},
   "outputs": [
    {
     "name": "stdout",
     "output_type": "stream",
     "text": [
      "epoch: 0, cost: 2.204615\n",
      "epoch: 300, cost: 0.128147\n",
      "epoch: 600, cost: 0.055606\n",
      "epoch: 900, cost: 0.030963\n",
      "epoch: 1200, cost: 0.019623\n",
      "epoch: 1500, cost: 0.013461\n",
      "epoch: 1800, cost: 0.009734\n",
      "epoch: 2100, cost: 0.007304\n",
      "epoch: 2400, cost: 0.005633\n",
      "epoch: 2700, cost: 0.004434\n",
      "epoch: 3000, cost: 0.003546\n"
     ]
    }
   ],
   "source": [
    "import torch.nn.functional as F\n",
    "import torch.nn as nn\n",
    "\n",
    "x_train = torch.FloatTensor([ [1,2,1,1], [2,1,3,2], [3,1,3,4], [4,1,5,5], [1,7,5,5], [1,2,5,6], [1,6,6,6], [1,7,7,7] ])\n",
    "y_train = torch.LongTensor([2,2,2,1,1,1,0,0])\n",
    "model = nn.Linear(4,3)\n",
    "optimizer = torch.optim.Adam(model.parameters(),lr=0.1)\n",
    "\n",
    "\n",
    "for epoch in range(3001):\n",
    "    z = model(x_train)\n",
    "    cost = F.cross_entropy(z, y_train)\n",
    "    optimizer.zero_grad()\n",
    "    cost.backward()\n",
    "    optimizer.step()\n",
    "    if epoch % 300 == 0:\n",
    "        print(\"epoch: {}, cost: {:.6f}\".format(epoch, cost.item()))"
   ]
  },
  {
   "cell_type": "code",
   "execution_count": null,
   "metadata": {},
   "outputs": [],
   "source": []
  }
 ],
 "metadata": {
  "kernelspec": {
   "display_name": "Python 3",
   "language": "python",
   "name": "python3"
  },
  "language_info": {
   "codemirror_mode": {
    "name": "ipython",
    "version": 3
   },
   "file_extension": ".py",
   "mimetype": "text/x-python",
   "name": "python",
   "nbconvert_exporter": "python",
   "pygments_lexer": "ipython3",
   "version": "3.7.6"
  }
 },
 "nbformat": 4,
 "nbformat_minor": 4
}
