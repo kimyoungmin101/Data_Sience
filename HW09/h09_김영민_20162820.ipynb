{
  "nbformat": 4,
  "nbformat_minor": 0,
  "metadata": {
    "colab": {
      "name": "Untitled1.ipynb",
      "provenance": []
    },
    "kernelspec": {
      "name": "python3",
      "display_name": "Python 3"
    }
  },
  "cells": [
    {
      "cell_type": "code",
      "metadata": {
        "colab": {
          "base_uri": "https://localhost:8080/"
        },
        "id": "NJ24eHT37VA2",
        "outputId": "f5368316-d252-4c37-8184-ba593991108a"
      },
      "source": [
        "import zipfile\r\n",
        "import requests\r\n",
        "from collections import Counter\r\n",
        "import re\r\n",
        "import math\r\n",
        "\r\n",
        "x = requests.get(\"http://www.dt.fee.unicamp.br/~tiago/smsspamcollection/smsspamcollection.zip\")\r\n",
        "with open(\"spam.zip\", \"wb\") as f:\r\n",
        "  f.write(x.content)\r\n",
        "\r\n",
        "zipfile.ZipFile(\"spam.zip\").extractall(\"./\")\r\n",
        "\r\n",
        "data = []\r\n",
        "with open(\"SMSSpamCollection.txt\", \"r\") as f:\r\n",
        "  for line in f:\r\n",
        "    data.append(line.strip().split(\"\\t\"))\r\n",
        "\r\n",
        "train_size = int(0.8 * len(data))\r\n",
        "test_size = len(data) - train_size\r\n",
        "train = data[:train_size]\r\n",
        "test = data[train_size:]\r\n",
        "\r\n",
        "count = Counter([s for s, c in train])\r\n",
        "prior_spam = count['spam'] / (count['spam'] + count['ham'])\r\n",
        "prior_ham = count['ham'] / (count['spam'] + count['ham'])\r\n",
        "\r\n",
        "num_spam_words = sum(len(re.findall(\"[0-9a-z_]+\", c.lower())) for s,c in train if s == \"spam\")\r\n",
        "num_ham_words = sum(len(re.findall(\"[0-9a-z_]+\", c.lower())) for s,c in train if s != \"spam\")\r\n",
        "\r\n",
        "spams = [c for s,c in train if s == \"spam\"]\r\n",
        "hams = [c for s,c in train if s == \"ham\"]\r\n",
        "\r\n",
        "spam_words = Counter([w for txt in spams for w in re.findall(\"[0-9a-z_]+\", txt.lower())])\r\n",
        "ham_words = Counter([w for txt in hams for w in re.findall(\"[0-9a-z_]+\", txt.lower())])\r\n",
        "\r\n",
        "def predict(text, k=0.5):\r\n",
        "  words = re.findall(\"[0-9a-z_]+\", text.lower())\r\n",
        "  denom_spam = num_spam_words + num_unique_words * k\r\n",
        "  denom_ham = num_ham_words + num_unique_words * k\r\n",
        "\r\n",
        "  spam_score = math.log(prior_spam)\r\n",
        "  ham_score = math.log(prior_ham)\r\n",
        "\r\n",
        "  for w in words:\r\n",
        "    spam_score += math.log((spam_words[w] + k)/denom_spam)\r\n",
        "    ham_score += math.log((ham_words[w] + k)/denom_ham)\r\n",
        "\r\n",
        "  return spam_score > ham_score\r\n",
        "\r\n",
        "true_positive = 0\r\n",
        "true_negative = 0\r\n",
        "false_positive = 0\r\n",
        "false_negative = 0\r\n",
        "\r\n",
        "for s, c in test:\r\n",
        "  pred = predict(c)\r\n",
        "  if pred and s == 'spam':\r\n",
        "    true_positive += 1\r\n",
        "  elif pred and s != 'spam':\r\n",
        "    false_positive += 1\r\n",
        "  elif not pred and s == 'spam':\r\n",
        "    false_negative += 1\r\n",
        "  else:\r\n",
        "    true_negative += 1\r\n",
        "\r\n",
        "print(\"accuracy: \", (true_positive + true_negative) / (true_positive + false_positive + true_negative + false_negative))\r\n",
        "print(\"precision: \", true_positive/(true_positive + false_positive))\r\n",
        "print(\"recall: \", true_positive / (true_positive + false_negative))\r\n",
        "print(\"f1: \", true_positive / (true_positive + (false_positive + false_negative)/2) )\r\n"
      ],
      "execution_count": 27,
      "outputs": [
        {
          "output_type": "stream",
          "text": [
            "accuracy:  0.9847533632286996\n",
            "precision:  0.9923076923076923\n",
            "recall:  0.8896551724137931\n",
            "f1:  0.9381818181818182\n"
          ],
          "name": "stdout"
        }
      ]
    }
  ]
}